{
 "cells": [
  {
   "cell_type": "code",
   "execution_count": null,
   "metadata": {},
   "outputs": [],
   "source": [
    "import pynq\n",
    "import numpy as np\n",
    "\n",
    "overlay = pynq.Overlay('Iteration1_wrapper.bit')\n",
    "\n",
    "dma = overlay.axi_dma_0\n",
    "\n",
    "DATA_SIZE = 1024\n",
    "input_buffer = pynq.allocate(shape=(DATA_SIZE,), dtype=np.uint32)\n",
    "output_buffer = pynq.allocate(shape=(DATA_SIZE,), dtype=np.uint32)\n",
    "\n",
    "input_buffer[:] = np.arange(DATA_SIZE, dtype=np.uint32)\n",
    "\n",
    "print(\"CPU commanding the DMA to start...\")\n",
    "dma.recvchannel.transfer(output_buffer)\n",
    "dma.sendchannel.transfer(input_buffer)\n",
    "\n",
    "dma.sendchannel.wait()\n",
    "dma.recvchannel.wait()\n",
    "print(\"DMA has finished the transfer.\")\n",
    "\n",
    "print(\"-\" * 50)\n",
    "print(\"Verifying buffer contents...\")\n",
    "print(f\"Input buffer (first 10):  {input_buffer[0:10]}\")\n",
    "print(f\"Output buffer (first 10): {output_buffer[0:10]}\")\n",
    "print(\"-\" * 50)\n",
    "\n",
    "if np.array_equal(input_buffer, output_buffer):\n",
    "    print(\"Successfully loopback test completed.\")\n",
    "else:\n",
    "    print(\"Loopback test failed.\")\n",
    "    \n",
    "input_buffer.close()\n",
    "output_buffer.close()\n",
    "\n",
    "print(\"Memory buffers are released now\")"
   ]
  },
  {
   "cell_type": "code",
   "execution_count": null,
   "metadata": {},
   "outputs": [],
   "source": []
  }
 ],
 "metadata": {
  "kernelspec": {
   "display_name": "Python 3",
   "language": "python",
   "name": "python3"
  },
  "language_info": {
   "codemirror_mode": {
    "name": "ipython",
    "version": 3
   },
   "file_extension": ".py",
   "mimetype": "text/x-python",
   "name": "python",
   "nbconvert_exporter": "python",
   "pygments_lexer": "ipython3",
   "version": "3.6.5"
  }
 },
 "nbformat": 4,
 "nbformat_minor": 2
}
